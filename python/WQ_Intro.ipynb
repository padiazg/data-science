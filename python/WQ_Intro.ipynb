{
 "cells": [
  {
   "cell_type": "code",
   "execution_count": null,
   "metadata": {},
   "outputs": [],
   "source": [
    "%matplotlib inline\n",
    "import matplotlib\n",
    "import seaborn as sns\n",
    "matplotlib.rcParams['savefig.dpi'] = 144"
   ]
  },
  {
   "cell_type": "markdown",
   "metadata": {},
   "source": [
    "# Introduction to Data Science"
   ]
  },
  {
   "cell_type": "markdown",
   "metadata": {},
   "source": [
    "Welcome!  We will be taking a deep dive into Data Science over the next few months.  This course will be divided into two parts, the first a lecture component will cover material in Data Science ranging from basic programming to Machine Learning.  The basic syllabus is as follows\n",
    "\n",
    "|Week|Material|\n",
    "|---|---|\n",
    "|1| Programming and Python fundamentals|\n",
    "|2| Data Structures|\n",
    "|3| Data Analysis in Python|\n",
    "|4| Data Wrangling|\n",
    "|5| Basic Machine Learning|\n",
    "|6| Machine Learning models|\n",
    "|7| Dimensionality reduction and regularization|\n",
    "|8| Feature engineering and ensemble models|\n",
    "\n",
    "The second component is a series of miniprojects which will test your mastery of the lecture subjects.  Data Science is not a spectator sport, so its important to practice, the miniprojects are a great way to do that.  There will be a series of five miniprojects which will need to be completed by the end of the course.\n",
    "\n",
    "There is an online discussion board where we can help each other learn, share code snippets, and ask questions.  The instructor will be monitoring the board and watching for questions, but it is also important that you interact with your peers.  Remember the best learning often happens when you need to explain something to someone else."
   ]
  },
  {
   "cell_type": "markdown",
   "metadata": {},
   "source": [
    "## Learning Platform\n",
    "\n",
    "We will be using the Jupyter notebook interface for all of our work.  The Jupyter notebook is a great tool for Data Science, especially for exploratory Data Science.  Lets go over a few things about the notebook.\n",
    "\n",
    "The notebook is divided into cells, some of which are markdown."
   ]
  },
  {
   "cell_type": "code",
   "execution_count": null,
   "metadata": {},
   "outputs": [],
   "source": [
    "print 'some of which are code'"
   ]
  },
  {
   "cell_type": "markdown",
   "metadata": {},
   "source": [
    "The code you are writing in your web browser gets sent to a Python \"kernel\" living on a cloud server which will execute your code and return the result back to the notebook.  To run a cell we can either click the run button at the top of the screen, or use `shift+enter`.  \n",
    "\n",
    "If I define a variable in one cell"
   ]
  },
  {
   "cell_type": "code",
   "execution_count": null,
   "metadata": {},
   "outputs": [],
   "source": [
    "a = 5"
   ]
  },
  {
   "cell_type": "markdown",
   "metadata": {},
   "source": [
    "The value is still accessible in another cell:"
   ]
  },
  {
   "cell_type": "code",
   "execution_count": null,
   "metadata": {},
   "outputs": [],
   "source": [
    "print a"
   ]
  },
  {
   "cell_type": "markdown",
   "metadata": {},
   "source": [
    "Jupyter notebooks do have some autosave functionality, but please remember to save your notebooks manually often to make sure you don't use any work.  If you are familiar with a version control too like `git`, it is not a bad idea to version control the notebooks, although we do ask you don't push the material to a public repository."
   ]
  },
  {
   "cell_type": "markdown",
   "metadata": {},
   "source": [
    "## Exercises\n",
    "\n",
    "These notebooks contain many small exercises which help practice the material being discussed.  Some of the exercises will be writing a bit of code, others will be written.  Some of the exercises will be covered in the lecture and some will be left as practice.  Exercises are a great topic to discuss on the forum and please feel free to help each other solve them.\n",
    "\n",
    "Now a few exercises for the introduction:\n",
    "\n",
    "1. Make a few cells in the Jupyter notebook and execute them\n",
    "2. Save your Jupyter notebook"
   ]
  },
  {
   "cell_type": "markdown",
   "metadata": {},
   "source": [
    "*Copyright &copy; 2018 The Data Incubator.  All rights reserved.*"
   ]
  }
 ],
 "metadata": {
  "kernelspec": {
   "display_name": "Python 2",
   "language": "python",
   "name": "python2"
  },
  "nbclean": true
 },
 "nbformat": 4,
 "nbformat_minor": 0
}
